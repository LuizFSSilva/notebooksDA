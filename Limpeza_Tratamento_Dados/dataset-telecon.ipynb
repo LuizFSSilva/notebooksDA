{
 "cells": [
  {
   "cell_type": "code",
   "execution_count": null,
   "id": "c4e66b5f",
   "metadata": {},
   "outputs": [],
   "source": [
    "import pandas as pd\n",
    "#url = '/content/drive/MyDrive/Dados/dataset-telecon.json'\n",
    "uurl = 'https://caelum-online-public.s3.amazonaws.com/2929-pandas/dataset-telecon.json'"
   ]
  },
  {
   "cell_type": "code",
   "execution_count": null,
   "id": "7ea01754",
   "metadata": {},
   "outputs": [],
   "source": [
    "dados = pd.read_json(url)\n",
    "dados"
   ]
  },
  {
   "cell_type": "code",
   "execution_count": null,
   "id": "e9d89654",
   "metadata": {},
   "outputs": [],
   "source": [
    "pd.json_normalize(dados['conta']).head()"
   ]
  },
  {
   "cell_type": "code",
   "execution_count": null,
   "id": "cbb889b2",
   "metadata": {},
   "outputs": [],
   "source": [
    "pd.json_normalize(dados['telefone']).head()"
   ]
  },
  {
   "cell_type": "code",
   "execution_count": null,
   "id": "30d00850",
   "metadata": {},
   "outputs": [],
   "source": [
    "import json"
   ]
  },
  {
   "cell_type": "code",
   "execution_count": null,
   "id": "6ed069af",
   "metadata": {},
   "outputs": [],
   "source": [
    "with open(url) as f:\n",
    "  json_bruto = json.load(f)"
   ]
  },
  {
   "cell_type": "code",
   "execution_count": null,
   "id": "5a7ea89d",
   "metadata": {},
   "outputs": [],
   "source": [
    "json_bruto"
   ]
  },
  {
   "cell_type": "code",
   "execution_count": null,
   "id": "f8f15aa3",
   "metadata": {},
   "outputs": [],
   "source": [
    "dados_normalizados = pd.json_normalize(json_bruto)\n",
    "dados_normalizados.head()"
   ]
  },
  {
   "cell_type": "code",
   "execution_count": null,
   "id": "d24f89db",
   "metadata": {},
   "outputs": [],
   "source": [
    "dados_normalizados.info()"
   ]
  },
  {
   "cell_type": "code",
   "execution_count": null,
   "id": "1117f5c6",
   "metadata": {},
   "outputs": [],
   "source": [
    "#há uma relação dos espaços vazios dentro do DF, realizar multiplicação\n",
    "idx = dados_normalizados[dados_normalizados['conta.cobranca.Total'] == ' '].index\n",
    "idx"
   ]
  },
  {
   "cell_type": "code",
   "execution_count": null,
   "id": "67ee8e10",
   "metadata": {},
   "outputs": [],
   "source": [
    "#24 é o total de meses\n",
    "dados_normalizados.loc[idx, 'cliente.tempo_servico'] = 24\n",
    "dados_normalizados.loc[idx, 'conta.cobranca.Total'] = dados_normalizados.loc[idx, 'conta.cobranca.mensal'] * dados_normalizados.loc[idx, 'cliente.tempo_servico']\n",
    "dados_normalizados.head()"
   ]
  },
  {
   "cell_type": "code",
   "execution_count": null,
   "id": "0bba1a75",
   "metadata": {},
   "outputs": [],
   "source": [
    "dados_normalizados.loc[idx][['cliente.tempo_servico', 'conta.contrato','conta.cobranca.mensal','conta.cobranca.Total']]"
   ]
  },
  {
   "cell_type": "code",
   "execution_count": null,
   "id": "3b7dc696",
   "metadata": {},
   "outputs": [],
   "source": [
    "dados_normalizados.info()"
   ]
  },
  {
   "cell_type": "code",
   "execution_count": null,
   "id": "72aaa1f1",
   "metadata": {},
   "outputs": [],
   "source": [
    "dados_normalizados['conta.cobranca.Total'] = dados_normalizados['conta.cobranca.Total'].astype(float)"
   ]
  },
  {
   "cell_type": "code",
   "execution_count": null,
   "id": "52e428d1",
   "metadata": {},
   "outputs": [],
   "source": [
    "for col in dados_normalizados.columns:\n",
    "  print(f\"Coluna: {col}\")\n",
    "  print(dados_normalizados[col].unique())\n",
    "  print('-' *30)"
   ]
  },
  {
   "cell_type": "code",
   "execution_count": null,
   "id": "5a250279",
   "metadata": {},
   "outputs": [],
   "source": [
    "#Query tem que colocar aspas duplas\n",
    "dados_normalizados.query(\"Churn == ''\")"
   ]
  },
  {
   "cell_type": "code",
   "execution_count": null,
   "id": "b159408b",
   "metadata": {},
   "outputs": [],
   "source": [
    "dados_sem_vazio = dados_normalizados[dados_normalizados['Churn'] != ''].copy()\n",
    "dados_sem_vazio.info()"
   ]
  },
  {
   "cell_type": "code",
   "execution_count": null,
   "id": "e9818b2f",
   "metadata": {},
   "outputs": [],
   "source": [
    "dados_sem_vazio.reset_index(drop = True, inplace = True)"
   ]
  },
  {
   "cell_type": "code",
   "execution_count": null,
   "id": "7345ddeb",
   "metadata": {},
   "outputs": [],
   "source": [
    "#Verificando se há dados duplicados\n",
    "dados_sem_vazio.duplicated().sum()"
   ]
  },
  {
   "cell_type": "code",
   "execution_count": null,
   "id": "c72f419e",
   "metadata": {},
   "outputs": [],
   "source": [
    "filtro_duplicadas = dados_sem_vazio.duplicated()\n",
    "filtro_duplicadas"
   ]
  },
  {
   "cell_type": "code",
   "execution_count": null,
   "id": "ac5ec556",
   "metadata": {},
   "outputs": [],
   "source": [
    "#Localizando as amostras duplicadas\n",
    "dados_sem_vazio[filtro_duplicadas]"
   ]
  },
  {
   "cell_type": "code",
   "execution_count": null,
   "id": "b4893540",
   "metadata": {},
   "outputs": [],
   "source": [
    "#Necessário retirar amostras duplicadas\n",
    "#Vies do modelo\n",
    "#Melhora de desempenho\n",
    "#Aumento da qualidade do modelo\n",
    "dados_sem_vazio.drop_duplicates(inplace = True) #inplace já faz a alteração direto no código sem precisar fazer atribuição"
   ]
  },
  {
   "cell_type": "code",
   "execution_count": null,
   "id": "1fa6e43a",
   "metadata": {},
   "outputs": [],
   "source": [
    "dados_sem_vazio.reset_index()"
   ]
  },
  {
   "cell_type": "code",
   "execution_count": null,
   "id": "b6316862",
   "metadata": {},
   "outputs": [],
   "source": [
    "#Outro problema, dados nulos\n",
    "dados_sem_vazio.isna()"
   ]
  },
  {
   "cell_type": "code",
   "execution_count": null,
   "id": "7e8b3e62",
   "metadata": {},
   "outputs": [],
   "source": [
    "dados_sem_vazio.isna().sum()"
   ]
  },
  {
   "cell_type": "code",
   "execution_count": null,
   "id": "ee2076c8",
   "metadata": {},
   "outputs": [],
   "source": [
    "#Quandos dados nulos há na base de dados, total considerando linha e coluna\n",
    "dados_sem_vazio.isna().sum().sum()"
   ]
  },
  {
   "cell_type": "code",
   "execution_count": null,
   "id": "595f8bad",
   "metadata": {},
   "outputs": [],
   "source": [
    "#Quantos index nulos há no dataframe, considerando somente uma única linha\n",
    "dados_sem_vazio[dados_sem_vazio.isna().any(axis = 1)]\n",
    "#Axis = 1 pelo menos 1 valor nulo em uma das colunas"
   ]
  },
  {
   "cell_type": "code",
   "execution_count": null,
   "id": "87e563ef",
   "metadata": {},
   "outputs": [],
   "source": [
    "#O que fazer?\n",
    "#Remover ou preencher?\n",
    "\n",
    "filtro = dados_sem_vazio['cliente.tempo_servico'].isna()"
   ]
  },
  {
   "cell_type": "code",
   "execution_count": null,
   "id": "fc7f87a9",
   "metadata": {},
   "outputs": [],
   "source": [
    "dados_sem_vazio[filtro][['cliente.tempo_servico', 'conta.cobranca.mensal', 'conta.cobranca.Total']]"
   ]
  },
  {
   "cell_type": "code",
   "execution_count": null,
   "id": "4b3aa224",
   "metadata": {},
   "outputs": [],
   "source": [
    "import numpy as np"
   ]
  },
  {
   "cell_type": "code",
   "execution_count": null,
   "id": "20ae4d61",
   "metadata": {},
   "outputs": [],
   "source": [
    "dados_sem_vazio['cliente.tempo_servico'].fillna(\n",
    "    np.ceil(\n",
    "        dados_sem_vazio['conta.cobranca.Total'] / dados_sem_vazio['conta.cobranca.mensal']), inplace = True)"
   ]
  },
  {
   "cell_type": "code",
   "execution_count": null,
   "id": "d091d682",
   "metadata": {},
   "outputs": [],
   "source": [
    "dados_sem_vazio[filtro][['cliente.tempo_servico', 'conta.cobranca.mensal', 'conta.cobranca.Total']]"
   ]
  },
  {
   "cell_type": "code",
   "execution_count": null,
   "id": "cf379d78",
   "metadata": {},
   "outputs": [],
   "source": [
    "dados_sem_vazio.isna().sum()"
   ]
  },
  {
   "cell_type": "code",
   "execution_count": null,
   "id": "40448579",
   "metadata": {},
   "outputs": [],
   "source": [
    "#verificando os dados mais frequentes\n",
    "dados_sem_vazio['conta.contrato'].value_counts()"
   ]
  },
  {
   "cell_type": "code",
   "execution_count": null,
   "id": "972a364d",
   "metadata": {},
   "outputs": [],
   "source": [
    "colunas_dropar = ['conta.contrato', 'conta.faturamente_eletronico','conta.metodo_pagamento']"
   ]
  },
  {
   "cell_type": "code",
   "execution_count": null,
   "id": "88501787",
   "metadata": {},
   "outputs": [],
   "source": [
    "dados_sem_vazio[colunas_dropar].isna().any(axis = 1).sum()"
   ]
  },
  {
   "cell_type": "code",
   "execution_count": null,
   "id": "b5d9d98a",
   "metadata": {},
   "outputs": [],
   "source": [
    "df_sem_nulos = dados_sem_vazio.dropna(subset = colunas_dropar).copy()\n",
    "df_sem_nulos.head()"
   ]
  },
  {
   "cell_type": "code",
   "execution_count": null,
   "id": "f5ac8cae",
   "metadata": {},
   "outputs": [],
   "source": [
    "df_sem_nulos.reset_index(drop=True, inplace=True)"
   ]
  },
  {
   "cell_type": "code",
   "execution_count": null,
   "id": "f98f8f14",
   "metadata": {},
   "outputs": [],
   "source": [
    "df_sem_nulos.isna().sum()"
   ]
  },
  {
   "cell_type": "code",
   "execution_count": null,
   "id": "cec31c7b",
   "metadata": {},
   "outputs": [],
   "source": [
    "df_sem_nulos.describe()"
   ]
  },
  {
   "cell_type": "code",
   "execution_count": null,
   "id": "e2805beb",
   "metadata": {},
   "outputs": [],
   "source": [
    "#Q1 - 25%\n",
    "#Q2 - 50% mediana\n",
    "#Q3 - 75%\n",
    "\n",
    "import seaborn as sns"
   ]
  },
  {
   "cell_type": "code",
   "execution_count": null,
   "id": "3917d005",
   "metadata": {},
   "outputs": [],
   "source": [
    "sns.boxplot(x=df_sem_nulos['cliente.tempo_servico'])"
   ]
  },
  {
   "cell_type": "code",
   "execution_count": null,
   "id": "e923667b",
   "metadata": {},
   "outputs": [],
   "source": [
    "Q1 = df_sem_nulos['cliente.tempo_servico'].quantile(0.25)\n",
    "Q3 = df_sem_nulos['cliente.tempo_servico'].quantile(0.75)\n",
    "IQR = Q3 - Q1\n",
    "limite_inferior = Q1 - 1.5 * IQR\n",
    "limite_superior = Q3 + 1.5 * IQR"
   ]
  },
  {
   "cell_type": "code",
   "execution_count": null,
   "id": "f82d199c",
   "metadata": {},
   "outputs": [],
   "source": [
    "outliers_index = (df_sem_nulos['cliente.tempo_servico'] < limite_inferior) | (df_sem_nulos['cliente.tempo_servico'] > limite_superior)\n",
    "outliers_index"
   ]
  },
  {
   "cell_type": "code",
   "execution_count": null,
   "id": "00210038",
   "metadata": {},
   "outputs": [],
   "source": [
    "df_sem_nulos[outliers_index]['cliente.tempo_servico']"
   ]
  },
  {
   "cell_type": "code",
   "execution_count": null,
   "id": "c9bfaea7",
   "metadata": {},
   "outputs": [],
   "source": [
    "#substituindo os valores para os outliers\n",
    "df_sem_out = df_sem_nulos.copy()"
   ]
  },
  {
   "cell_type": "code",
   "execution_count": null,
   "id": "1f3bf044",
   "metadata": {},
   "outputs": [],
   "source": [
    "df_sem_out.loc[outliers_index, 'cliente.tempo_servico'] = np.ceil(df_sem_out.loc[outliers_index, 'conta.cobranca.Total'] / df_sem_out.loc[outliers_index, 'conta.cobranca.mensal'])"
   ]
  },
  {
   "cell_type": "code",
   "execution_count": null,
   "id": "cdc75692",
   "metadata": {},
   "outputs": [],
   "source": [
    "sns.boxplot(x=df_sem_out['cliente.tempo_servico'])"
   ]
  },
  {
   "cell_type": "code",
   "execution_count": null,
   "id": "3a70d88c",
   "metadata": {},
   "outputs": [],
   "source": [
    "df_sem_out[outliers_index][['cliente.tempo_servico', 'conta.cobranca.mensal', 'conta.cobranca.Total']]"
   ]
  },
  {
   "cell_type": "code",
   "execution_count": null,
   "id": "0563cc03",
   "metadata": {},
   "outputs": [],
   "source": [
    "Q1 = df_sem_out['cliente.tempo_servico'].quantile(0.25)\n",
    "Q3 = df_sem_out['cliente.tempo_servico'].quantile(0.75)\n",
    "IQR = Q3 - Q1\n",
    "limite_inferior = Q1 - 1.5 * IQR\n",
    "limite_superior = Q3 + 1.5 * IQR\n",
    "\n",
    "outliers_index = (df_sem_out['cliente.tempo_servico'] < limite_inferior) | (df_sem_out['cliente.tempo_servico'] > limite_superior)"
   ]
  },
  {
   "cell_type": "code",
   "execution_count": null,
   "id": "db178e20",
   "metadata": {},
   "outputs": [],
   "source": [
    "df_sem_out[outliers_index][['cliente.tempo_servico', 'conta.cobranca.mensal', 'conta.cobranca.Total']]"
   ]
  },
  {
   "cell_type": "code",
   "execution_count": null,
   "id": "d5bdb256",
   "metadata": {},
   "outputs": [],
   "source": [
    "#Descartando as amostras outliers\n",
    "#~é uma negação, pega tudo menos\n",
    "df_sem_out = df_sem_out[~outliers_index]\n",
    "df_sem_out"
   ]
  },
  {
   "cell_type": "code",
   "execution_count": null,
   "id": "6c2dcab9",
   "metadata": {},
   "outputs": [],
   "source": [
    "sns.boxplot(x=df_sem_out['cliente.tempo_servico'])"
   ]
  },
  {
   "cell_type": "code",
   "execution_count": null,
   "id": "effeb9d8",
   "metadata": {},
   "outputs": [],
   "source": [
    "df_sem_out.reset_index(drop=True, inplace=True)"
   ]
  },
  {
   "cell_type": "code",
   "execution_count": null,
   "id": "615a4921",
   "metadata": {},
   "outputs": [],
   "source": [
    "#Variáveis categóricas não possuem valores numéricos\n",
    "df_sem_out"
   ]
  },
  {
   "cell_type": "code",
   "execution_count": null,
   "id": "1b68e425",
   "metadata": {},
   "outputs": [],
   "source": [
    "df_sem_id = df_sem_out.drop('id_cliente', axis=1).copy()"
   ]
  },
  {
   "cell_type": "code",
   "execution_count": null,
   "id": "6b5de008",
   "metadata": {},
   "outputs": [],
   "source": [
    "mapeamento = {\n",
    "    'nao' : 0,\n",
    "    'sim' : 1,\n",
    "    'masculino' : 0,\n",
    "    'feminino' : 1\n",
    "}\n",
    "mapeamento"
   ]
  },
  {
   "cell_type": "code",
   "execution_count": null,
   "id": "7dacf790",
   "metadata": {},
   "outputs": [],
   "source": [
    "for col in df_sem_id.columns:\n",
    "  print(f\"Coluna: {col}\")\n",
    "  print(df_sem_id[col].unique())\n",
    "  print('-' *30)"
   ]
  },
  {
   "cell_type": "code",
   "execution_count": null,
   "id": "c58bfe0f",
   "metadata": {},
   "outputs": [],
   "source": [
    "colunas = ['telefone.servico_telefone', 'Churn', 'cliente.parceiro', 'cliente.dependentes', 'conta.faturamente_eletronico', 'cliente.genero']"
   ]
  },
  {
   "cell_type": "code",
   "execution_count": null,
   "id": "58639c73",
   "metadata": {},
   "outputs": [],
   "source": [
    "df_sem_id[colunas] = df_sem_id[colunas].replace(mapeamento)\n",
    "df_sem_id"
   ]
  },
  {
   "cell_type": "code",
   "execution_count": null,
   "id": "bcd2109f",
   "metadata": {},
   "outputs": [],
   "source": [
    "for col in df_sem_id.columns:\n",
    "  print(f\"Coluna: {col}\")\n",
    "  print(df_sem_id[col].unique())\n",
    "  print('-' *30)\n"
   ]
  },
  {
   "cell_type": "code",
   "execution_count": null,
   "id": "ae69cbbd",
   "metadata": {},
   "outputs": [],
   "source": [
    "#One Hot Encoder (dummy)\n",
    "s = pd.Series(list('abca'))\n",
    "s"
   ]
  },
  {
   "cell_type": "code",
   "execution_count": null,
   "id": "e46add8f",
   "metadata": {},
   "outputs": [],
   "source": [
    "#Faz uma matriz de verificação por categoria para verificar onde é 1 ou 0 da categoria listada criando novas colunas por categoria\n",
    "pd.get_dummies(s, dtype=int)"
   ]
  },
  {
   "cell_type": "code",
   "execution_count": null,
   "id": "e3e390e7",
   "metadata": {},
   "outputs": [],
   "source": [
    "df_sem_id.info()"
   ]
  },
  {
   "cell_type": "code",
   "execution_count": null,
   "id": "03cd7792",
   "metadata": {},
   "outputs": [],
   "source": [
    "df_dummies = pd.get_dummies(df_sem_id, dtype=int).copy()"
   ]
  },
  {
   "cell_type": "code",
   "execution_count": null,
   "id": "e6f92446",
   "metadata": {},
   "outputs": [],
   "source": [
    "df_dummies.columns"
   ]
  },
  {
   "cell_type": "code",
   "execution_count": null,
   "id": "8822defd",
   "metadata": {},
   "outputs": [],
   "source": [
    "df_dummies.info()"
   ]
  }
 ],
 "metadata": {
  "language_info": {
   "name": "python"
  }
 },
 "nbformat": 4,
 "nbformat_minor": 5
}
