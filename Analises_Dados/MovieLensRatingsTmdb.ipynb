{
 "cells": [
  {
   "cell_type": "code",
   "execution_count": null,
   "id": "588d14c4",
   "metadata": {},
   "outputs": [],
   "source": [
    "import pandas as pd\n",
    "\n",
    "url = \"https://raw.githubusercontent.com/alura-cursos/data-science-analise-exploratoria/main/Aula_0/ml-latest-small/ratings.csv\"\n",
    "\n",
    "notas = pd.read_csv(url)\n",
    "notas.head()"
   ]
  },
  {
   "cell_type": "code",
   "execution_count": null,
   "id": "3717fdb4",
   "metadata": {},
   "outputs": [],
   "source": [
    "notas.shape"
   ]
  },
  {
   "cell_type": "code",
   "execution_count": null,
   "id": "0d2fdd7e",
   "metadata": {},
   "outputs": [],
   "source": [
    "notas.columns = ['usuariosId','filmesId','nota','momento'] #Dataframe\n",
    "notas.head()"
   ]
  },
  {
   "cell_type": "code",
   "execution_count": null,
   "id": "7059d2ed",
   "metadata": {},
   "outputs": [],
   "source": [
    "notas['nota'] #Séries"
   ]
  },
  {
   "cell_type": "code",
   "execution_count": null,
   "id": "2c10bd55",
   "metadata": {},
   "outputs": [],
   "source": [
    "notas['nota'].unique() #valores únicos"
   ]
  },
  {
   "cell_type": "code",
   "execution_count": null,
   "id": "33968cde",
   "metadata": {},
   "outputs": [],
   "source": [
    "notas['nota'].value_counts() #frequência"
   ]
  },
  {
   "cell_type": "code",
   "execution_count": null,
   "id": "a4616f60",
   "metadata": {},
   "outputs": [],
   "source": [
    "notas['nota'].mean()"
   ]
  },
  {
   "cell_type": "code",
   "execution_count": null,
   "id": "35c57a4a",
   "metadata": {},
   "outputs": [],
   "source": [
    "notas['nota'].plot(kind='hist')"
   ]
  },
  {
   "cell_type": "code",
   "execution_count": null,
   "id": "690e47cb",
   "metadata": {},
   "outputs": [],
   "source": [
    "notas['nota'].median()"
   ]
  },
  {
   "cell_type": "code",
   "execution_count": null,
   "id": "fc527803",
   "metadata": {},
   "outputs": [],
   "source": [
    "notas['nota'].describe()"
   ]
  },
  {
   "cell_type": "code",
   "execution_count": null,
   "id": "2b352852",
   "metadata": {},
   "outputs": [],
   "source": [
    "import seaborn as sns\n",
    "sns.boxplot(notas['nota'])"
   ]
  },
  {
   "cell_type": "code",
   "execution_count": null,
   "id": "b2064229",
   "metadata": {},
   "outputs": [],
   "source": [
    "filmes = pd.read_csv(\"https://raw.githubusercontent.com/alura-cursos/data-science-analise-exploratoria/main/Aula_0/ml-latest-small/movies.csv\")\n",
    "filmes.head()"
   ]
  },
  {
   "cell_type": "code",
   "execution_count": null,
   "id": "f349fbfb",
   "metadata": {},
   "outputs": [],
   "source": [
    "filmes.columns = ['filmeId', 'titulo', 'generos']\n",
    "filmes.head()"
   ]
  },
  {
   "cell_type": "code",
   "execution_count": null,
   "id": "9a0399ed",
   "metadata": {},
   "outputs": [],
   "source": [
    "notas.query('filmesId==1')['nota'].mean()"
   ]
  },
  {
   "cell_type": "code",
   "execution_count": null,
   "id": "8c3a55b9",
   "metadata": {},
   "outputs": [],
   "source": [
    "medias_por_filme = notas.groupby('filmesId')['nota'].mean()\n",
    "\n",
    "medias_por_filme.plot(kind='hist')"
   ]
  },
  {
   "cell_type": "code",
   "execution_count": null,
   "id": "18564000",
   "metadata": {},
   "outputs": [],
   "source": [
    "sns.boxplot(medias_por_filme)"
   ]
  },
  {
   "cell_type": "code",
   "execution_count": null,
   "id": "326c97ba",
   "metadata": {},
   "outputs": [],
   "source": [
    "medias_por_filme.describe()"
   ]
  },
  {
   "cell_type": "code",
   "execution_count": null,
   "id": "c4cad31c",
   "metadata": {},
   "outputs": [],
   "source": [
    "import matplotlib.pyplot as plt\n",
    "\n",
    "sns.displot(medias_por_filme, kde=True)\n",
    "plt.title('Histograma das médias dos filmes')\n",
    "plt.xlabel('Média')\n",
    "plt.ylabel('Frequência')"
   ]
  },
  {
   "cell_type": "code",
   "execution_count": null,
   "id": "87e03873",
   "metadata": {},
   "outputs": [],
   "source": [
    "#Dados do TMDB\n",
    "url = 'https://raw.githubusercontent.com/alura-cursos/data-science-analise-exploratoria/main/Aula_0/tmdb_5000_movies.csv'\n",
    "\n",
    "tmdb = pd.read_csv(url)\n",
    "tmdb.head()"
   ]
  },
  {
   "cell_type": "code",
   "execution_count": null,
   "id": "b5ec7aaa",
   "metadata": {},
   "outputs": [],
   "source": [
    "most_revenue = tmdb.sort_values('revenue', ascending=False)\n",
    "most_revenue[['original_title','revenue']][:5].reset_index()"
   ]
  },
  {
   "cell_type": "code",
   "execution_count": null,
   "id": "cc99f6a0",
   "metadata": {},
   "outputs": [],
   "source": [
    "#Gráfico de distribuição de orçamento\n",
    "\n",
    "sns.displot(tmdb['budget'])\n",
    "plt.title('Distribuição de orçamento')\n",
    "plt.xlabel('Orçamento')\n",
    "plt.ylabel('Frequência')\n",
    "plt.show()"
   ]
  },
  {
   "cell_type": "code",
   "execution_count": null,
   "id": "81a96269",
   "metadata": {},
   "outputs": [],
   "source": [
    "tmdb.info()"
   ]
  },
  {
   "cell_type": "code",
   "execution_count": null,
   "id": "6e9a3b98",
   "metadata": {},
   "outputs": [],
   "source": [
    "tmdb.describe()"
   ]
  },
  {
   "cell_type": "code",
   "execution_count": null,
   "id": "c9279e33",
   "metadata": {},
   "outputs": [],
   "source": [
    "tmdb.query(\"revenue < 500\")[['original_title','revenue']]"
   ]
  },
  {
   "cell_type": "code",
   "execution_count": null,
   "id": "e029aa54",
   "metadata": {},
   "outputs": [],
   "source": [
    "com_faturamento = tmdb.query(\"revenue > 0\")\n",
    "sns.displot(com_faturamento['revenue'])\n",
    "plt.title('Distribuição de orçamento')\n",
    "plt.xlabel('Orçamento')\n",
    "plt.ylabel('Frequência')\n",
    "plt.show()"
   ]
  },
  {
   "cell_type": "code",
   "execution_count": null,
   "id": "2ba78006",
   "metadata": {},
   "outputs": [],
   "source": [
    "#Pegando valores únicos da coluna language\n",
    "\n",
    "tmdb['original_language'].unique()"
   ]
  },
  {
   "cell_type": "code",
   "execution_count": null,
   "id": "f12cffc2",
   "metadata": {},
   "outputs": [],
   "source": [
    "#Contando quantidade de valores por categoria\n",
    "\n",
    "series = tmdb['original_language'].value_counts().to_frame().reset_index()\n",
    "series.columns = ['orignal_language','total']\n",
    "\n",
    "series.head()"
   ]
  },
  {
   "cell_type": "code",
   "execution_count": null,
   "id": "1e913b5e",
   "metadata": {},
   "outputs": [],
   "source": [
    "#Gráfico de barras da quantidade de língua por filme\n",
    "sns.barplot(data = series, x ='orignal_language', y='total')\n",
    "plt.title('Quantidade de filmes por língua')\n",
    "plt.xlabel('Língua')\n",
    "plt.ylabel('Quantidade')\n",
    "plt.show()"
   ]
  },
  {
   "cell_type": "code",
   "execution_count": null,
   "id": "dc517eb8",
   "metadata": {},
   "outputs": [],
   "source": [
    "#Direto com Seaborn\n",
    "\n",
    "sns.countplot(data=tmdb, x='original_language')\n",
    "plt.title('Quantidade de filmes por língua')\n",
    "plt.xlabel('Língua')\n",
    "plt.ylabel('Quantidade')\n",
    "plt.show()"
   ]
  },
  {
   "cell_type": "code",
   "execution_count": null,
   "id": "cb1ab28a",
   "metadata": {},
   "outputs": [],
   "source": [
    "series.plot(kind='pie', y='total', legend=False)\n",
    "plt.title('Quantidade de filmes por língua')"
   ]
  },
  {
   "cell_type": "code",
   "execution_count": null,
   "id": "53dc0ef6",
   "metadata": {},
   "outputs": [],
   "source": [
    "total_por_lingua = tmdb['original_language'].value_counts()\n",
    "total_geral = total_por_lingua.sum()\n",
    "total_de_ingles = total_por_lingua.loc[\"en\"]\n",
    "total_do_resto = total_geral - total_de_ingles\n",
    "print(total_de_ingles, total_do_resto)"
   ]
  },
  {
   "cell_type": "code",
   "execution_count": null,
   "id": "554bfe7f",
   "metadata": {},
   "outputs": [],
   "source": [
    "#Dicionário\n",
    "dados = {\n",
    "  \"lingua\" : [\"ingles\", \"outros\"],\n",
    "  \"total\" : [total_de_ingles, total_do_resto]\n",
    "}\n",
    "\n",
    "dados = pd.DataFrame(dados)\n",
    "dados"
   ]
  },
  {
   "cell_type": "code",
   "execution_count": null,
   "id": "60e3fdd0",
   "metadata": {},
   "outputs": [],
   "source": [
    "sns.barplot(data=dados, x='lingua', y='total')\n",
    "plt.title('Quantidade de filmes por língua')\n",
    "plt.xlabel('Língua')\n",
    "plt.ylabel('Quantidade')\n",
    "plt.show()"
   ]
  },
  {
   "cell_type": "code",
   "execution_count": null,
   "id": "c5384b72",
   "metadata": {},
   "outputs": [],
   "source": [
    "dados.plot(kind='pie', labels=dados['lingua'], y='total', legend=False)"
   ]
  },
  {
   "cell_type": "code",
   "execution_count": null,
   "id": "deb66be2",
   "metadata": {},
   "outputs": [],
   "source": [
    "#Fazer gráfico de barras de todas as língua que não são inglesa\n",
    "\n",
    "sns.countplot(data=tmdb.query(\"original_language != 'en'\"), x='original_language')\n",
    "\n",
    "plt.title('Quantidade sem ser inglês')\n",
    "plt.xlabel('Língua')\n",
    "plt.ylabel('Quantidade')\n",
    "plt.show()"
   ]
  },
  {
   "cell_type": "code",
   "execution_count": null,
   "id": "78f8146d",
   "metadata": {},
   "outputs": [],
   "source": [
    "lista_ordenada = (tmdb.query(\"original_language != 'en'\")\n",
    "  .groupby('original_language')['original_language']\n",
    "  .count()\n",
    "  .sort_values(ascending=False)\n",
    ")\n",
    "\n",
    "lista_ordenada"
   ]
  },
  {
   "cell_type": "code",
   "execution_count": null,
   "id": "9f458646",
   "metadata": {},
   "outputs": [],
   "source": [
    "#Total de linguas ordenados sem o inglês\n",
    "#count_linguas_sem_ingles = tmdb.query(\"original_language != 'en'\")['original_language'].value_counts()\n",
    "\n",
    "#Por sort_values\n",
    "plt.figure(figsize=(16,7))\n",
    "sns.countplot(data=tmdb.query(\"original_language != 'en'\"),\n",
    "  x='original_language',\n",
    "  order=lista_ordenada.index,      \n",
    "  palette=\"mako\",\n",
    "  hue = 'original_language',\n",
    "  hue_order = lista_ordenada.index,\n",
    "  stat='percent'\n",
    ")\n",
    "\n",
    "plt.title('Quantidade sem ser inglês')\n",
    "plt.xlabel('Língua')\n",
    "plt.ylabel('Quantidade %')\n",
    "plt.show()"
   ]
  },
  {
   "cell_type": "code",
   "execution_count": null,
   "id": "660a7d44",
   "metadata": {},
   "outputs": [],
   "source": [
    "lista_ordenada_normalizada = tmdb.query(\"original_language != 'en'\")['original_language'].value_counts(normalize=True)\n",
    "\n",
    "lista_ordenada_normalizada\n",
    "#"
   ]
  },
  {
   "cell_type": "code",
   "execution_count": null,
   "id": "5471d78d",
   "metadata": {},
   "outputs": [],
   "source": [
    "notas_toy_story = notas.query(\"filmesId == 1\")\n",
    "notas_jumanji = notas.query(\"filmesId == 2\")"
   ]
  },
  {
   "cell_type": "code",
   "execution_count": null,
   "id": "d4b35e58",
   "metadata": {},
   "outputs": [],
   "source": [
    "plt.boxplot([notas_toy_story['nota'], notas_jumanji['nota']])"
   ]
  },
  {
   "cell_type": "code",
   "execution_count": null,
   "id": "56fdbd5d",
   "metadata": {},
   "outputs": [],
   "source": [
    "sns.boxplot(data=notas.query(\"filmesId in [1,2,3,4,5]\"),\n",
    "  x='filmesId',\n",
    "  y='nota',\n",
    "  palette='Set2')"
   ]
  },
  {
   "cell_type": "code",
   "execution_count": null,
   "id": "f7f193ce",
   "metadata": {},
   "outputs": [],
   "source": [
    "#Serã que tem filmes com 1 nota somente?\n",
    "\n",
    "notas.groupby('filmesId').count()"
   ]
  },
  {
   "cell_type": "code",
   "execution_count": null,
   "id": "74480e29",
   "metadata": {},
   "outputs": [],
   "source": [
    "#Pegar todos os filmes que só possuem uma nota lançada\n",
    "\n",
    "notas.groupby('filmesId').count().query(\"nota == 1\")\n",
    "\n",
    "#3446 filmes com somente 1 nota lançada no sistema"
   ]
  }
 ],
 "metadata": {
  "language_info": {
   "name": "python"
  }
 },
 "nbformat": 4,
 "nbformat_minor": 5
}
